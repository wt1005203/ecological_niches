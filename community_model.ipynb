{
 "cells": [
  {
   "cell_type": "markdown",
   "metadata": {},
   "source": [
    "## Import necessary packages"
   ]
  },
  {
   "cell_type": "code",
   "execution_count": 2,
   "metadata": {},
   "outputs": [],
   "source": [
    "import pandas as pd\n",
    "import numpy as np\n",
    "import scipy.integrate as integ\n",
    "import matplotlib.pyplot as plt\n",
    "\n",
    "def figure_size_setting(WIDTH):\n",
    "    #WIDTH = 700.0  # the number latex spits out\n",
    "    FACTOR = 0.8  # the fraction of the width you'd like the figure to occupy\n",
    "    fig_width_pt  = WIDTH * FACTOR\n",
    "    inches_per_pt = 1.0 / 72.27\n",
    "    golden_ratio  = (np.sqrt(5) - 1.0) / 2.0  # because it looks good\n",
    "    fig_width_in  = fig_width_pt * inches_per_pt  # figure width in inches\n",
    "    fig_height_in = fig_width_in * golden_ratio   # figure height in inches\n",
    "    fig_dims    = [fig_width_in, fig_height_in] # fig dims as a list\n",
    "    return fig_dims\n",
    "\n",
    "SMALL_SIZE = 12\n",
    "MEDIUM_SIZE = 15\n",
    "BIGGER_SIZE = 15\n",
    "plt.rc('font', size=SMALL_SIZE, family='sans-serif', serif='Arial')          # controls default text sizes\n",
    "plt.rc('axes', titlesize=BIGGER_SIZE)     # fontsize of the axes title\n",
    "plt.rc('axes', labelsize=MEDIUM_SIZE)    # fontsize of the x and y labels\n",
    "plt.rc('xtick', labelsize=SMALL_SIZE)    # fontsize of the tick labels\n",
    "plt.rc('ytick', labelsize=SMALL_SIZE)    # fontsize of the tick labels\n",
    "plt.rc('legend', fontsize=SMALL_SIZE)    # legend fontsize\n",
    "plt.rc('figure', titlesize=BIGGER_SIZE)  # fontsize of the figure title\n",
    "plt.rc('text')\n",
    "plt.rcParams['font.family'] = 'serif'\n",
    "plt.rcParams['font.serif'] = ['Arial'] + plt.rcParams['font.serif']\n",
    "plt.rcParams['mathtext.default'] = 'regular'"
   ]
  },
  {
   "cell_type": "markdown",
   "metadata": {},
   "source": [
    "## Sample species with random abilities to form a species pool for the community assembly"
   ]
  },
  {
   "cell_type": "code",
   "execution_count": 3,
   "metadata": {},
   "outputs": [],
   "source": [
    "#### draw a random configuratoin\n",
    "from scipy.stats import bernoulli\n",
    "Nr = 40\n",
    "Ne = 20\n",
    "Nb = 10000\n",
    "m2b_full_before_evolution = np.random.rand(Nr,Nb)\n",
    "m2b_full_before_evolution[:int(Nr/2),:] = np.random.rand(int(Nr/2),Nb) * (np.random.rand(int(Nr/2),Nb) < 0.7).astype(int)\n",
    "m2b_full_before_evolution[int(Nr/2):,:] = np.random.rand(int(Nr/2),Nb) * (np.random.rand(int(Nr/2),Nb) < 0.2).astype(int)\n",
    "\n",
    "met_ess_full_before_evolution = np.ones((Ne,Nb))\n",
    "met_ess_full_before_evolution = met_ess_full_before_evolution * (np.random.rand(Ne,Nb) < 0.7).astype(int)\n"
   ]
  },
  {
   "cell_type": "code",
   "execution_count": 4,
   "metadata": {},
   "outputs": [
    {
     "name": "stdout",
     "output_type": "stream",
     "text": [
      "(40, 10000)\n",
      "(20, 10000)\n"
     ]
    }
   ],
   "source": [
    "print(m2b_full_before_evolution.shape)\n",
    "print(met_ess_full_before_evolution.shape)\n"
   ]
  },
  {
   "cell_type": "code",
   "execution_count": 5,
   "metadata": {},
   "outputs": [],
   "source": [
    "def CRM_microbial_community(i_microbe_subset, consumption_mat, yield_mat, depletion_mat, met_ess):\n",
    "    delta = 1/24 # dilution rate\n",
    "    \n",
    "    Ne = met_ess_full.shape[0]\n",
    "    multiplier_array = (1 - 1/Ne)**(met_ess==0).astype(int).sum(0)\n",
    "    #multiplier_array = np.ones((met_ess_full.shape[1]))\n",
    "    multiplier_array = multiplier_array[i_microbe_subset]\n",
    "    consumption_mat = consumption_mat[i_microbe_subset, :] * multiplier_array[:, np.newaxis]\n",
    "    yield_mat = yield_mat[i_microbe_subset, :]\n",
    "    depletion_mat = depletion_mat[:, i_microbe_subset] * multiplier_array[np.newaxis, :]\n",
    "\n",
    "    Db = len(i_microbe_subset)\n",
    "    Dr = consumption_mat.shape[1]\n",
    "\n",
    "    ts = np.linspace(0, 500000, 1000)\n",
    "    B0 = np.array([1] * Db)\n",
    "    R0 = np.array([1] * Dr)\n",
    "    Db = len(B0)\n",
    "    Dr = len(R0)\n",
    "    y0 = np.concatenate([B0, R0])\n",
    "    \n",
    "    def dydt(t, y):\n",
    "        R_supply = np.zeros([Dr])\n",
    "        R_supply[:] = 1\n",
    "\n",
    "        dydt = np.zeros([Db+Dr])\n",
    "        B = y[:Db]\n",
    "        R = y[Db:(Db+Dr)]\n",
    "        \n",
    "        dBdt = B * np.dot(consumption_mat, R) - delta * B\n",
    "        dRdt = delta * R_supply - R * np.dot(depletion_mat, B) - delta * R   \n",
    "        dydt[:Db] = dBdt\n",
    "        dydt[Db:(Db+Dr)] = dRdt\n",
    "\n",
    "        return dydt\n",
    "\n",
    "    t_min=0\n",
    "    t_max=1e6\n",
    "    solution=integ.LSODA(dydt,t_min,y0,t_max)\n",
    "    solution=integ.solve_ivp(dydt,[t_min, t_max],y0,method='LSODA', atol=1e-4, rtol=1e-6)\n",
    "    ts = solution.t\n",
    "    Ps = solution.y.transpose()\n",
    "\n",
    "    B = Ps[:,:Db]\n",
    "    R = Ps[:,Db:(Db+Dr)]\n",
    "    \n",
    "    return Ps[:, :]\n"
   ]
  },
  {
   "cell_type": "code",
   "execution_count": 6,
   "metadata": {},
   "outputs": [
    {
     "name": "stdout",
     "output_type": "stream",
     "text": [
      "(40, 10000)\n",
      "0.225845\n"
     ]
    }
   ],
   "source": [
    "#### Subsample their genomic capabilities to decide the protein abilities\n",
    "\n",
    "from scipy.stats import bernoulli\n",
    "from numpy.matlib import repmat\n",
    "m2b = m2b_full_before_evolution.copy()\n",
    "for i in range(m2b.shape[1]):\n",
    "    Connectance2 = np.random.uniform(low=0.0, high=1.0, size=1)[0]\n",
    "    Nr, Nb = m2b_full_before_evolution.shape\n",
    "    data_bern = bernoulli.rvs(size=Nr*Nb,p=Connectance2).reshape(Nr, Nb)\n",
    "    m2b[:,i] = m2b_full_before_evolution[:,i] * data_bern[:,i]\n",
    "m2b_full = m2b_full_before_evolution.copy()\n",
    "\n",
    "met_ess = met_ess_full_before_evolution.copy()\n",
    "for i in range(m2b.shape[1]):\n",
    "    Connectance2 = np.random.uniform(low=0.0, high=1.0, size=1)[0]\n",
    "    Nr, Nb = met_ess_full_before_evolution.shape\n",
    "    data_bern = bernoulli.rvs(size=Ne*Nb,p=Connectance2).reshape(Ne, Nb)\n",
    "    met_ess[:,i] = met_ess_full_before_evolution[:,i] * data_bern[:,i]\n",
    "met_ess_full = met_ess_full_before_evolution.copy()\n",
    "\n",
    "m2b_binary = m2b.copy()\n",
    "m2b_binary[m2b_binary > 0] = 1\n",
    "denominator = m2b_binary.sum(0); denominator[denominator <= 0] = 1\n",
    "m2b = m2b / denominator\n",
    "print(m2b_binary.shape)\n",
    "print(m2b_binary.sum()/m2b_binary.shape[0]/m2b_binary.shape[1])\n",
    "\n",
    "\n",
    "#### Generate parameters for the ODE simulation\n",
    "s = m2b_binary.sum()/m2b_binary.shape[0]/m2b_binary.shape[1]\n",
    "Nb = m2b_binary.shape[1] \n",
    "Nr = m2b_binary.shape[0]\n",
    "consumption_mat = m2b.transpose().copy()\n",
    "yield_mat = consumption_mat.copy()\n",
    "depletion_mat = consumption_mat.copy().transpose()\n",
    "i_microbe_subset = range(consumption_mat.shape[0])\n"
   ]
  },
  {
   "cell_type": "code",
   "execution_count": 7,
   "metadata": {},
   "outputs": [],
   "source": [
    "######## \"consumption_mat\" is the truely expressed consumption functions,\n",
    "######## \"consumption_mat_red_genome\" is the consumption functions encoded in genomes,\n",
    "######## \"met_ess_red\" is the truely expressed essential functions, \n",
    "######## \"met_ess_red_genome\" is the essential functions encoded in genomes\n",
    "\n",
    "s1, s2 = consumption_mat.shape\n",
    "A = np.zeros([s1+s2, s1+s2])\n",
    "A[:s1,s1:] = consumption_mat\n",
    "A[s1:,:s1] = consumption_mat.transpose()\n",
    "\n",
    "solution = CRM_microbial_community(i_microbe_subset, consumption_mat, yield_mat, depletion_mat, met_ess)[-1,:]\n",
    "abundance = solution[:Nb]\n",
    "concentration = solution[Nb:]\n",
    "i_survivors = np.where((abundance > 1e-5))[0]\n",
    "consumption_mat_red = consumption_mat[i_survivors, :]  \n",
    "consumption_mat_red_genome = m2b_full.transpose()[i_survivors, :].copy()\n",
    "abundance_survivors = abundance[i_survivors]     \n",
    "s1, s2 = consumption_mat_red.shape\n",
    "A = np.zeros([s1+s2, s1+s2])\n",
    "A[:s1,s1:] = consumption_mat_red\n",
    "A[s1:,:s1] = consumption_mat_red.transpose()\n",
    "\n",
    "met_ess_red = met_ess.transpose()[i_survivors, :]\n",
    "met_ess_red_genome = met_ess_full.transpose()[i_survivors, :].copy()"
   ]
  },
  {
   "cell_type": "code",
   "execution_count": 8,
   "metadata": {},
   "outputs": [
    {
     "name": "stdout",
     "output_type": "stream",
     "text": [
      "0.6569444444444444\n",
      "0.34444\n"
     ]
    }
   ],
   "source": [
    "print(np.mean(met_ess[:, i_survivors]!=0))\n",
    "print(np.mean(met_ess!=0))\n"
   ]
  },
  {
   "cell_type": "code",
   "execution_count": 16,
   "metadata": {},
   "outputs": [
    {
     "name": "stdout",
     "output_type": "stream",
     "text": [
      "0.052083333333333336\n",
      "0.225845\n"
     ]
    }
   ],
   "source": [
    "print(np.mean(consumption_mat[i_survivors,:]!=0))\n",
    "print(np.mean(consumption_mat!=0))\n"
   ]
  },
  {
   "cell_type": "code",
   "execution_count": 17,
   "metadata": {},
   "outputs": [],
   "source": [
    "####### pickle all matrices which are used to generate the simulation\n",
    "'''\n",
    "#### save a pickle file\n",
    "import pickle\n",
    "pickle_out = open(\"model_simulation_results.pickle\", \"wb\")\n",
    "pickle.dump([i_survivors, abundance_survivors, m2b_full_before_evolution, m2b_full, consumption_mat, consumption_mat_red_genome, consumption_mat_red, met_ess_full_before_evolution, met_ess_full, met_ess, met_ess_red_genome, met_ess_red], pickle_out)\n",
    "pickle_out.close()\n",
    "'''\n"
   ]
  },
  {
   "cell_type": "code",
   "execution_count": null,
   "metadata": {},
   "outputs": [],
   "source": []
  }
 ],
 "metadata": {
  "kernel_info": {
   "name": "python3"
  },
  "kernelspec": {
   "display_name": "Python 3",
   "language": "python",
   "name": "python3"
  },
  "language_info": {
   "codemirror_mode": {
    "name": "ipython",
    "version": 3
   },
   "file_extension": ".py",
   "mimetype": "text/x-python",
   "name": "python",
   "nbconvert_exporter": "python",
   "pygments_lexer": "ipython3",
   "version": "3.8.8"
  },
  "nteract": {
   "version": "0.15.0"
  }
 },
 "nbformat": 4,
 "nbformat_minor": 2
}
